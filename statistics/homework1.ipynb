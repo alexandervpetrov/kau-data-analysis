{
 "cells": [
  {
   "cell_type": "markdown",
   "metadata": {},
   "source": [
    "# Домашка 1"
   ]
  },
  {
   "cell_type": "code",
   "execution_count": 1,
   "metadata": {
    "collapsed": true
   },
   "outputs": [],
   "source": [
    "import math\n",
    "import numpy as np\n",
    "import scipy.stats as stats"
   ]
  },
  {
   "cell_type": "markdown",
   "metadata": {},
   "source": [
    "## № 7"
   ]
  },
  {
   "cell_type": "code",
   "execution_count": 2,
   "metadata": {
    "collapsed": false
   },
   "outputs": [
    {
     "name": "stdout",
     "output_type": "stream",
     "text": [
      "parameter: 5.0\n",
      "P(Y = 5): 0.175467369768\n",
      "P(Y < 4): 0.258287968298\n"
     ]
    }
   ],
   "source": [
    "poisson = stats.poisson\n",
    "mu = 1825 / 365\n",
    "print('parameter:', mu)\n",
    "print('P(Y = 5):', poisson.pmf(5, mu))\n",
    "print('P(Y < 4):', sum(poisson.pmf(k, mu) for k in range(1, 4)))\n"
   ]
  },
  {
   "cell_type": "markdown",
   "metadata": {},
   "source": [
    "## № 12"
   ]
  },
  {
   "cell_type": "code",
   "execution_count": 3,
   "metadata": {
    "collapsed": false
   },
   "outputs": [
    {
     "name": "stdout",
     "output_type": "stream",
     "text": [
      "alpha: 0.00028865894700774323\n"
     ]
    }
   ],
   "source": [
    "alpha = - math.log(0.9) / 365\n",
    "print('alpha:', alpha)"
   ]
  },
  {
   "cell_type": "markdown",
   "metadata": {},
   "source": [
    "## № 13"
   ]
  },
  {
   "cell_type": "code",
   "execution_count": 4,
   "metadata": {
    "collapsed": false
   },
   "outputs": [
    {
     "name": "stdout",
     "output_type": "stream",
     "text": [
      "parameter: 1.5\n"
     ]
    }
   ],
   "source": [
    "X = [0.1, 0.2, 0.6, 0.6, 0.7, 0.8, 0.9, 0.9]\n",
    "X = np.array(X)\n",
    "p = 1 / (1 / X.mean() - 1)\n",
    "print('parameter:', p)"
   ]
  },
  {
   "cell_type": "markdown",
   "metadata": {},
   "source": [
    "## № 14"
   ]
  },
  {
   "cell_type": "code",
   "execution_count": 5,
   "metadata": {
    "collapsed": false
   },
   "outputs": [
    {
     "name": "stdout",
     "output_type": "stream",
     "text": [
      "Mean: 15.14\n",
      "Variance: 0.11248\n"
     ]
    }
   ],
   "source": [
    "X = [15.12, 15.16, 14.99, 14.54, 15.54, 15.13, 15.21, 14.97, 14.90, 15.84]\n",
    "X = np.array(X)\n",
    "print('Mean:', X.mean())\n",
    "print('Variance:', X.var())"
   ]
  },
  {
   "cell_type": "markdown",
   "metadata": {},
   "source": [
    "## № 16"
   ]
  },
  {
   "cell_type": "code",
   "execution_count": 6,
   "metadata": {
    "collapsed": false
   },
   "outputs": [
    {
     "name": "stdout",
     "output_type": "stream",
     "text": [
      "P: 0.0359712230216\n"
     ]
    }
   ],
   "source": [
    "X = [12, 5, 7, 42, 24, 36, 43, 51, 14, 12, 48, 55, 18, 18, 19, 27, 10, 39, 67, 9]\n",
    "X = np.array(X)\n",
    "p = 1 / X.mean()\n",
    "print('P:', p)"
   ]
  }
 ],
 "metadata": {
  "kernelspec": {
   "display_name": "Python 3",
   "language": "python",
   "name": "python3"
  },
  "language_info": {
   "codemirror_mode": {
    "name": "ipython",
    "version": 3
   },
   "file_extension": ".py",
   "mimetype": "text/x-python",
   "name": "python",
   "nbconvert_exporter": "python",
   "pygments_lexer": "ipython3",
   "version": "3.6.0"
  }
 },
 "nbformat": 4,
 "nbformat_minor": 2
}
